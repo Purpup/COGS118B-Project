{
 "cells": [
  {
   "cell_type": "markdown",
   "metadata": {},
   "source": [
    "# COGS 118B - Final Project"
   ]
  },
  {
   "cell_type": "markdown",
   "metadata": {},
   "source": [
    "# Insert title here\n",
    "\n",
    "## Group members\n",
    "\n",
    "- Pelé\n",
    "- Diego Maradonna\n",
    "- Johan Cruyff\n",
    "- Roberto Carlos\n",
    "- Franz Beckenbaur"
   ]
  },
  {
   "cell_type": "markdown",
   "metadata": {},
   "source": [
    "# Abstract \n",
    "This section should be short and clearly stated. It should be a single paragraph <200 words.  It should summarize: \n",
    "- what your goal/problem is\n",
    "- what the data used represents \n",
    "- the solution/what you did\n",
    "- major results you came up with (mention how results are measured) \n",
    "\n",
    "__NB:__ this final project form is much more report-like than the proposal and the checkpoint. Think in terms of writing a paper with bits of code in the middle to make the plots/tables"
   ]
  },
  {
   "cell_type": "markdown",
   "metadata": {},
   "source": [
    "# Background\n",
    "\n",
    "Fill in the background and discuss the kind of prior work that has gone on in this research area here. **Use inline citation** to specify which references support which statements.  You can do that through HTML footnotes (demonstrated here). I used to reccommend Markdown footnotes (google is your friend) because they are simpler but recently I have had some problems with them working for me whereas HTML ones always work so far. So use the method that works for you, but do use inline citations.\n",
    "\n",
    "Here is an example of inline citation. After government genocide in the 20th century, real birds were replaced with surveillance drones designed to look just like birds<a name=\"lorenz\"></a>[<sup>[1]</sup>](#lorenznote). Use a minimum of 2 or 3 citations, but we prefer more <a name=\"admonish\"></a>[<sup>[2]</sup>](#admonishnote). You need enough citations to fully explain and back up important facts. \n",
    "\n",
    "Remeber you are trying to explain why someone would want to answer your question or why your hypothesis is in the form that you've stated. "
   ]
  },
  {
   "cell_type": "markdown",
   "metadata": {},
   "source": [
    "# Problem Statement\n",
    "\n",
    "Clearly describe the problem that you are solving. Avoid ambiguous words. The problem described should be well defined and should have at least one ML-relevant potential solution. Additionally, describe the problem thoroughly such that it is clear that the problem is quantifiable (the problem can be expressed in mathematical or logical terms), measurable (the problem can be measured by some metric and clearly observed), and replicable (the problem can be reproduced and occurs more than once)."
   ]
  },
  {
   "cell_type": "markdown",
   "metadata": {},
   "source": [
    "# Data\n",
    "\n",
    "Detail how/where you obtained the data and cleaned it (if necessary)\n",
    "\n",
    "If the data cleaning process is very long (e.g., elaborate text processing) consider describing it briefly here in text, and moving the actual clearning process to another notebook in your repo (include a link here!).  The idea behind this approach: this is a report, and if you blow up the flow of the report to include a lot of code it makes it hard to read.\n",
    "\n",
    "Please give the following infomration for each dataset you are using\n",
    "- link/reference to obtain it\n",
    "- description of the size of the dataset (# of variables, # of observations)\n",
    "- what an observation consists of\n",
    "- what some critical variables are, how they are represented\n",
    "- any special handling, transformations, cleaning, etc you have done should be demonstrated here!\n"
   ]
  },
  {
   "cell_type": "markdown",
   "metadata": {},
   "source": [
    "- [Dataset 1](https://www.kaggle.com/datasets/andrewmvd/sp-500-stocks): This dataset contains the stock prices of the S&P 500 companies. The dataset contains 5 columns and 6068010 rows. The columns are: `date`, `name`, `open`, `high`, `low`, `close`, `volume`. The `date` column is a string that represents the date of the stock price. The `name` column is a string that represents the name of the company. The `open`, `high`, `low`, `close`, and `volume` columns are floats that represent the stock price of the company. The dataset was cleaned by removing any rows with missing values.\n",
    "- [Dataset 2](https://pypi.org/project/yfinance/): This is a Python library that allows us to download the stock prices of companies. The library was used to download various other metrics of the S&P 500 companies. The library contains a (usually numerical) value for each metric, with hundreds of metrics for each company"
   ]
  },
  {
   "cell_type": "code",
   "execution_count": 16,
   "metadata": {},
   "outputs": [
    {
     "name": "stdout",
     "output_type": "stream",
     "text": [
      "Requirement already satisfied: yfinance in /opt/homebrew/lib/python3.11/site-packages (0.2.37)\n",
      "Requirement already satisfied: pandas>=1.3.0 in /opt/homebrew/lib/python3.11/site-packages (from yfinance) (2.1.1)\n",
      "Requirement already satisfied: numpy>=1.16.5 in /opt/homebrew/lib/python3.11/site-packages (from yfinance) (1.26.0)\n",
      "Requirement already satisfied: requests>=2.31 in /opt/homebrew/lib/python3.11/site-packages (from yfinance) (2.31.0)\n",
      "Requirement already satisfied: multitasking>=0.0.7 in /opt/homebrew/lib/python3.11/site-packages (from yfinance) (0.0.11)\n",
      "Requirement already satisfied: lxml>=4.9.1 in /opt/homebrew/lib/python3.11/site-packages (from yfinance) (5.1.0)\n",
      "Requirement already satisfied: appdirs>=1.4.4 in /opt/homebrew/lib/python3.11/site-packages (from yfinance) (1.4.4)\n",
      "Requirement already satisfied: pytz>=2022.5 in /opt/homebrew/lib/python3.11/site-packages (from yfinance) (2023.3.post1)\n",
      "Requirement already satisfied: frozendict>=2.3.4 in /opt/homebrew/lib/python3.11/site-packages (from yfinance) (2.4.0)\n",
      "Requirement already satisfied: peewee>=3.16.2 in /opt/homebrew/lib/python3.11/site-packages (from yfinance) (3.17.1)\n",
      "Requirement already satisfied: beautifulsoup4>=4.11.1 in /opt/homebrew/lib/python3.11/site-packages (from yfinance) (4.12.3)\n",
      "Requirement already satisfied: html5lib>=1.1 in /opt/homebrew/lib/python3.11/site-packages (from yfinance) (1.1)\n",
      "Requirement already satisfied: soupsieve>1.2 in /opt/homebrew/lib/python3.11/site-packages (from beautifulsoup4>=4.11.1->yfinance) (2.5)\n",
      "Requirement already satisfied: six>=1.9 in /Users/jensenmckenzie/Library/Python/3.11/lib/python/site-packages (from html5lib>=1.1->yfinance) (1.16.0)\n",
      "Requirement already satisfied: webencodings in /opt/homebrew/lib/python3.11/site-packages (from html5lib>=1.1->yfinance) (0.5.1)\n",
      "Requirement already satisfied: python-dateutil>=2.8.2 in /Users/jensenmckenzie/Library/Python/3.11/lib/python/site-packages (from pandas>=1.3.0->yfinance) (2.8.2)\n",
      "Requirement already satisfied: tzdata>=2022.1 in /opt/homebrew/lib/python3.11/site-packages (from pandas>=1.3.0->yfinance) (2023.3)\n",
      "Requirement already satisfied: charset-normalizer<4,>=2 in /opt/homebrew/lib/python3.11/site-packages (from requests>=2.31->yfinance) (3.3.2)\n",
      "Requirement already satisfied: idna<4,>=2.5 in /opt/homebrew/lib/python3.11/site-packages (from requests>=2.31->yfinance) (3.6)\n",
      "Requirement already satisfied: urllib3<3,>=1.21.1 in /opt/homebrew/lib/python3.11/site-packages (from requests>=2.31->yfinance) (2.2.1)\n",
      "Requirement already satisfied: certifi>=2017.4.17 in /opt/homebrew/lib/python3.11/site-packages (from requests>=2.31->yfinance) (2024.2.2)\n",
      "\n",
      "\u001b[1m[\u001b[0m\u001b[34;49mnotice\u001b[0m\u001b[1;39;49m]\u001b[0m\u001b[39;49m A new release of pip is available: \u001b[0m\u001b[31;49m23.0.1\u001b[0m\u001b[39;49m -> \u001b[0m\u001b[32;49m24.0\u001b[0m\n",
      "\u001b[1m[\u001b[0m\u001b[34;49mnotice\u001b[0m\u001b[1;39;49m]\u001b[0m\u001b[39;49m To update, run: \u001b[0m\u001b[32;49mpython3.11 -m pip install --upgrade pip\u001b[0m\n",
      "Note: you may need to restart the kernel to use updated packages.\n",
      "Requirement already satisfied: matplotlib in /opt/homebrew/lib/python3.11/site-packages (3.8.3)\n",
      "Requirement already satisfied: contourpy>=1.0.1 in /opt/homebrew/lib/python3.11/site-packages (from matplotlib) (1.2.0)\n",
      "Requirement already satisfied: cycler>=0.10 in /opt/homebrew/lib/python3.11/site-packages (from matplotlib) (0.12.1)\n",
      "Requirement already satisfied: fonttools>=4.22.0 in /opt/homebrew/lib/python3.11/site-packages (from matplotlib) (4.49.0)\n",
      "Requirement already satisfied: kiwisolver>=1.3.1 in /opt/homebrew/lib/python3.11/site-packages (from matplotlib) (1.4.5)\n",
      "Requirement already satisfied: numpy<2,>=1.21 in /opt/homebrew/lib/python3.11/site-packages (from matplotlib) (1.26.0)\n",
      "Requirement already satisfied: packaging>=20.0 in /Users/jensenmckenzie/Library/Python/3.11/lib/python/site-packages (from matplotlib) (23.1)\n",
      "Requirement already satisfied: pillow>=8 in /opt/homebrew/lib/python3.11/site-packages (from matplotlib) (10.2.0)\n",
      "Requirement already satisfied: pyparsing>=2.3.1 in /opt/homebrew/lib/python3.11/site-packages (from matplotlib) (3.1.1)\n",
      "Requirement already satisfied: python-dateutil>=2.7 in /Users/jensenmckenzie/Library/Python/3.11/lib/python/site-packages (from matplotlib) (2.8.2)\n",
      "Requirement already satisfied: six>=1.5 in /Users/jensenmckenzie/Library/Python/3.11/lib/python/site-packages (from python-dateutil>=2.7->matplotlib) (1.16.0)\n",
      "\n",
      "\u001b[1m[\u001b[0m\u001b[34;49mnotice\u001b[0m\u001b[1;39;49m]\u001b[0m\u001b[39;49m A new release of pip is available: \u001b[0m\u001b[31;49m23.0.1\u001b[0m\u001b[39;49m -> \u001b[0m\u001b[32;49m24.0\u001b[0m\n",
      "\u001b[1m[\u001b[0m\u001b[34;49mnotice\u001b[0m\u001b[1;39;49m]\u001b[0m\u001b[39;49m To update, run: \u001b[0m\u001b[32;49mpython3.11 -m pip install --upgrade pip\u001b[0m\n",
      "Note: you may need to restart the kernel to use updated packages.\n",
      "Collecting scikit-learn\n",
      "  Downloading scikit_learn-1.4.1.post1-cp311-cp311-macosx_12_0_arm64.whl (10.4 MB)\n",
      "\u001b[2K     \u001b[90m━━━━━━━━━━━━━━━━━━━━━━━━━━━━━━━━━━━━━━━━\u001b[0m \u001b[32m10.4/10.4 MB\u001b[0m \u001b[31m27.0 MB/s\u001b[0m eta \u001b[36m0:00:00\u001b[0ma \u001b[36m0:00:01\u001b[0m\n",
      "\u001b[?25hRequirement already satisfied: numpy<2.0,>=1.19.5 in /opt/homebrew/lib/python3.11/site-packages (from scikit-learn) (1.26.0)\n",
      "Collecting scipy>=1.6.0\n",
      "  Downloading scipy-1.12.0-cp311-cp311-macosx_12_0_arm64.whl (31.4 MB)\n",
      "\u001b[2K     \u001b[90m━━━━━━━━━━━━━━━━━━━━━━━━━━━━━━━━━━━━━━━━\u001b[0m \u001b[32m31.4/31.4 MB\u001b[0m \u001b[31m7.3 MB/s\u001b[0m eta \u001b[36m0:00:00\u001b[0m00:01\u001b[0m00:01\u001b[0mm\n",
      "\u001b[?25hCollecting joblib>=1.2.0\n",
      "  Downloading joblib-1.3.2-py3-none-any.whl (302 kB)\n",
      "\u001b[2K     \u001b[90m━━━━━━━━━━━━━━━━━━━━━━━━━━━━━━━━━━━━━━━\u001b[0m \u001b[32m302.2/302.2 kB\u001b[0m \u001b[31m5.3 MB/s\u001b[0m eta \u001b[36m0:00:00\u001b[0ma \u001b[36m0:00:01\u001b[0m\n",
      "\u001b[?25hCollecting threadpoolctl>=2.0.0\n",
      "  Downloading threadpoolctl-3.3.0-py3-none-any.whl (17 kB)\n",
      "Installing collected packages: threadpoolctl, scipy, joblib, scikit-learn\n",
      "Successfully installed joblib-1.3.2 scikit-learn-1.4.1.post1 scipy-1.12.0 threadpoolctl-3.3.0\n",
      "\n",
      "\u001b[1m[\u001b[0m\u001b[34;49mnotice\u001b[0m\u001b[1;39;49m]\u001b[0m\u001b[39;49m A new release of pip is available: \u001b[0m\u001b[31;49m23.0.1\u001b[0m\u001b[39;49m -> \u001b[0m\u001b[32;49m24.0\u001b[0m\n",
      "\u001b[1m[\u001b[0m\u001b[34;49mnotice\u001b[0m\u001b[1;39;49m]\u001b[0m\u001b[39;49m To update, run: \u001b[0m\u001b[32;49mpython3.11 -m pip install --upgrade pip\u001b[0m\n",
      "Note: you may need to restart the kernel to use updated packages.\n"
     ]
    }
   ],
   "source": [
    "%pip install yfinance\n",
    "%pip install matplotlib\n",
    "%pip install scikit-learn"
   ]
  },
  {
   "cell_type": "code",
   "execution_count": 25,
   "metadata": {},
   "outputs": [],
   "source": [
    "import yfinance as yf\n",
    "import pandas as pd\n",
    "import numpy as np\n",
    "import matplotlib.pyplot as plt\n",
    "from sklearn.cluster import KMeans\n",
    "from sklearn.preprocessing import StandardScaler\n",
    "from sklearn.impute import SimpleImputer\n",
    "from sklearn.mixture import GaussianMixture\n",
    "from sklearn.metrics import silhouette_score\n"
   ]
  },
  {
   "cell_type": "code",
   "execution_count": 6,
   "metadata": {},
   "outputs": [
    {
     "name": "stdout",
     "output_type": "stream",
     "text": [
      "    Symbol  Current Price     Market Cap  Volatility  P/E Ratio  \\\n",
      "0     MSFT         402.65  2991866511360    0.014345  30.138474   \n",
      "1     AAPL         170.12  2626975956992    0.012051  23.726637   \n",
      "2     NVDA         859.64  2149100027904    0.029335  28.837303   \n",
      "3     AMZN         174.12  1808654008320    0.019152  32.790960   \n",
      "4     GOOG         133.78  1657520783360    0.017612  17.129322   \n",
      "..     ...            ...            ...         ...        ...   \n",
      "497    CMA          51.74     6824402944    0.038637   8.358644   \n",
      "498   GNRC         110.09     6635046912    0.032503  13.744069   \n",
      "499    VFC          15.82     6151069184    0.035928  11.632353   \n",
      "500   ZION          40.95     6066947584    0.040845   8.825432   \n",
      "501    WHR         103.13     5635415040    0.021676   6.907569   \n",
      "\n",
      "     Dividend Yield  Sectors_Basic Materials  Sectors_Communication Services  \\\n",
      "0            0.0072                    False                           False   \n",
      "1            0.0053                    False                           False   \n",
      "2            0.0002                    False                           False   \n",
      "3               NaN                    False                           False   \n",
      "4               NaN                    False                            True   \n",
      "..              ...                      ...                             ...   \n",
      "497          0.0570                    False                           False   \n",
      "498             NaN                    False                           False   \n",
      "499          0.0229                    False                           False   \n",
      "500          0.0418                    False                           False   \n",
      "501          0.0657                    False                           False   \n",
      "\n",
      "     Sectors_Consumer Cyclical  Sectors_Consumer Defensive  Sectors_Energy  \\\n",
      "0                        False                       False           False   \n",
      "1                        False                       False           False   \n",
      "2                        False                       False           False   \n",
      "3                         True                       False           False   \n",
      "4                        False                       False           False   \n",
      "..                         ...                         ...             ...   \n",
      "497                      False                       False           False   \n",
      "498                      False                       False           False   \n",
      "499                       True                       False           False   \n",
      "500                      False                       False           False   \n",
      "501                       True                       False           False   \n",
      "\n",
      "     Sectors_Financial Services  Sectors_Healthcare  Sectors_Industrials  \\\n",
      "0                         False               False                False   \n",
      "1                         False               False                False   \n",
      "2                         False               False                False   \n",
      "3                         False               False                False   \n",
      "4                         False               False                False   \n",
      "..                          ...                 ...                  ...   \n",
      "497                        True               False                False   \n",
      "498                       False               False                 True   \n",
      "499                       False               False                False   \n",
      "500                        True               False                False   \n",
      "501                       False               False                False   \n",
      "\n",
      "     Sectors_Real Estate  Sectors_Technology  Sectors_Utilities  \n",
      "0                  False                True              False  \n",
      "1                  False                True              False  \n",
      "2                  False                True              False  \n",
      "3                  False               False              False  \n",
      "4                  False               False              False  \n",
      "..                   ...                 ...                ...  \n",
      "497                False               False              False  \n",
      "498                False               False              False  \n",
      "499                False               False              False  \n",
      "500                False               False              False  \n",
      "501                False               False              False  \n",
      "\n",
      "[502 rows x 17 columns]\n"
     ]
    }
   ],
   "source": [
    "# Read the S&P 500 companies data from the CSV file\n",
    "sp500_companies = pd.read_csv('sp500_companies.csv')\n",
    "\n",
    "# Define lists to store data\n",
    "symbols = []\n",
    "sectors = []\n",
    "current_prices = []\n",
    "market_caps = []\n",
    "volatilities = []\n",
    "pe_ratios = []\n",
    "dividend_yields = []\n",
    "\n",
    "# Loop through each company\n",
    "for index, row in sp500_companies.iterrows():\n",
    "    try:\n",
    "        symbol = row['Symbol']\n",
    "        # Fetch data for the company\n",
    "        company_data = yf.Ticker(symbol)\n",
    "        \n",
    "        # Get company info\n",
    "        info = company_data.info\n",
    "        \n",
    "        # Append data to lists\n",
    "        symbols.append(symbol)\n",
    "        sectors.append(company_data.info['sector'])\n",
    "        current_prices.append(row['Currentprice'])\n",
    "        market_caps.append(row['Marketcap'])\n",
    "        volatilities.append(company_data.history(period=\"1y\").Close.pct_change().std())\n",
    "        pe_ratios.append(info.get('forwardPE', None))\n",
    "        dividend_yields.append(info.get('dividendYield', None))\n",
    "    except:\n",
    "        print(f\"Data for {symbol} not found.\")\n",
    "\n",
    "# Create DataFrame\n",
    "data = {\n",
    "    'Symbol': symbols,\n",
    "    'Sectors': sectors,\n",
    "    'Current Price': current_prices,\n",
    "    'Market Cap': market_caps,\n",
    "    'Volatility': volatilities,\n",
    "    'P/E Ratio': pe_ratios,\n",
    "    'Dividend Yield': dividend_yields\n",
    "}\n",
    "df = pd.DataFrame(data)\n",
    "\n",
    "df = pd.get_dummies(df, columns=['Sectors'])\n",
    "\n",
    "# Export the DataFrame to a CSV file\n",
    "df.to_csv('sp500_stock_data_with_metrics.csv', index=False)\n",
    "\n",
    "# Display the DataFrame\n",
    "print(df)"
   ]
  },
  {
   "cell_type": "code",
   "execution_count": 28,
   "metadata": {},
   "outputs": [
    {
     "name": "stdout",
     "output_type": "stream",
     "text": [
      "Silhouette Score (Gaussian Mixture Model, 2 clusters): 0.17620038735694185\n",
      "Silhouette Score (Gaussian Mixture Model, 3 clusters): 0.16767693915151394\n",
      "Silhouette Score (Gaussian Mixture Model, 4 clusters): 0.18151734220598742\n",
      "Silhouette Score (Gaussian Mixture Model, 5 clusters): 0.2411052399503303\n",
      "Silhouette Score (Gaussian Mixture Model, 6 clusters): 0.29795472738580997\n",
      "Silhouette Score (Gaussian Mixture Model, 7 clusters): 0.3433870331979371\n",
      "Silhouette Score (Gaussian Mixture Model, 8 clusters): 0.4017241137843583\n",
      "Silhouette Score (Gaussian Mixture Model, 9 clusters): 0.4431450489339882\n",
      "Silhouette Score (Gaussian Mixture Model, 10 clusters): 0.49457953963115064\n",
      "Silhouette Score (Gaussian Mixture Model, 11 clusters): 0.5549204176772427\n",
      "Silhouette Score (Gaussian Mixture Model, 12 clusters): 0.5708409876051428\n",
      "Silhouette Score (Gaussian Mixture Model, 13 clusters): 0.5727091499327581\n",
      "Silhouette Score (Gaussian Mixture Model, 14 clusters): 0.5268391402370031\n",
      "Silhouette Score (Gaussian Mixture Model, 15 clusters): 0.4629003452548401\n",
      "Silhouette Score (Gaussian Mixture Model, 16 clusters): 0.47227164673481975\n",
      "Silhouette Score (Gaussian Mixture Model, 17 clusters): 0.4374358090930827\n",
      "Silhouette Score (Gaussian Mixture Model, 18 clusters): 0.4421208267262495\n",
      "Silhouette Score (Gaussian Mixture Model, 19 clusters): 0.37368070232570444\n",
      "Best Silhouette Score (Gaussian Mixture Model): 0.5727091499327581 with 13 clusters\n"
     ]
    }
   ],
   "source": []
  },
  {
   "cell_type": "markdown",
   "metadata": {},
   "source": [
    "# Proposed Solution\n",
    "\n",
    "In this section, clearly describe a solution to the problem. The solution should be applicable to the project domain and appropriate for the dataset(s) or input(s) given. Provide enough detail (e.g., algorithmic description and/or theoretical properties) to convince us that your solution is applicable. Make sure to describe how the solution will be tested.  \n",
    "\n",
    "If you know details already, describe how (e.g., library used, function calls) you plan to implement the solution in a way that is reproducible.\n",
    "\n",
    "If it is appropriate to the problem statement, describe a benchmark model<a name=\"sota\"></a>[<sup>[3]</sup>](#sotanote) against which your solution will be compared. "
   ]
  },
  {
   "cell_type": "markdown",
   "metadata": {},
   "source": [
    "# Evaluation Metrics\n",
    "\n",
    "Propose at least one evaluation metric that can be used to quantify the performance of both the benchmark model and the solution model. The evaluation metric(s) you propose should be appropriate given the context of the data, the problem statement, and the intended solution. Describe how the evaluation metric(s) are derived and provide an example of their mathematical representations (if applicable). Complex evaluation metrics should be clearly defined and quantifiable (can be expressed in mathematical or logical terms)."
   ]
  },
  {
   "cell_type": "markdown",
   "metadata": {},
   "source": [
    "# Results\n",
    "\n",
    "You may have done tons of work on this. Not all of it belongs here. \n",
    "\n",
    "Reports should have a __narrative__. Once you've looked through all your results over the quarter, decide on one main point and 2-4 secondary points you want us to understand. Include the detailed code and analysis results of those points only; you should spend more time/code/plots on your main point than the others.\n",
    "\n",
    "If you went down any blind alleys that you later decided to not pursue, please don't abuse the TAs time by throwing in 81 lines of code and 4 plots related to something you actually abandoned.  Consider deleting things that are not important to your narrative.  If its slightly relevant to the narrative or you just want us to know you tried something, you could keep it in by summarizing the result in this report in a sentence or two, moving the actual analysis to another file in your repo, and providing us a link to that file.\n",
    "\n",
    "### Subsection 1\n",
    "\n",
    "You will likely have different subsections as you go through your report. For instance you might start with an analysis of the dataset/problem and from there you might be able to draw out the kinds of algorithms that are / aren't appropriate to tackle the solution.  Or something else completely if this isn't the way your project works.\n",
    "\n",
    "### Subsection 2\n",
    "\n",
    "Another likely section is if you are doing any feature selection through cross-validation or hand-design/validation of features/transformations of the data\n",
    "\n",
    "### Subsection 3\n",
    "\n",
    "Probably you need to describe the base model and demonstrate its performance.  Maybe you include a learning curve to show whether you have enough data to do train/validate/test split or have to go to k-folds or LOOCV or ???\n",
    "\n",
    "### Subsection 4\n",
    "\n",
    "Perhaps some exploration of the model selection (hyper-parameters) or algorithm selection task. Validation curves, plots showing the variability of perfromance across folds of the cross-validation, etc. If you're doing one, the outcome of the null hypothesis test or parsimony principle check to show how you are selecting the best model.\n",
    "\n",
    "### Subsection 5 \n",
    "\n",
    "Maybe you do model selection again, but using a different kind of metric than before?\n",
    "\n"
   ]
  },
  {
   "cell_type": "markdown",
   "metadata": {},
   "source": [
    "# Discussion\n",
    "\n",
    "### Interpreting the result\n",
    "\n",
    "OK, you've given us quite a bit of tech informaiton above, now its time to tell us what to pay attention to in all that.  Think clearly about your results, decide on one main point and 2-4 secondary points you want us to understand. Highlight HOW your results support those points.  You probably want 2-5 sentences per point.\n",
    "\n",
    "### Limitations\n",
    "\n",
    "Are there any problems with the work?  For instance would more data change the nature of the problem? Would it be good to explore more hyperparams than you had time for?   \n",
    "\n",
    "### Ethics & Privacy\n",
    "\n",
    "If your project has obvious potential concerns with ethics or data privacy discuss that here.  Almost every ML project put into production can have ethical implications if you use your imagination. Use your imagination.\n",
    "\n",
    "Even if you can't come up with an obvious ethical concern that should be addressed, you should know that a large number of ML projects that go into producation have unintended consequences and ethical problems once in production. How will your team address these issues?\n",
    "\n",
    "Consider a tool to help you address the potential issues such as https://deon.drivendata.org\n",
    "\n",
    "### Conclusion\n",
    "\n",
    "Reiterate your main point and in just a few sentences tell us how your results support it. Mention how this work would fit in the background/context of other work in this field if you can. Suggest directions for future work if you want to."
   ]
  },
  {
   "cell_type": "markdown",
   "metadata": {},
   "source": [
    "# Footnotes\n",
    "<a name=\"lorenznote\"></a>1.[^](#lorenz): Lorenz, T. (9 Dec 2021) Birds Aren’t Real, or Are They? Inside a Gen Z Conspiracy Theory. *The New York Times*. https://www.nytimes.com/2021/12/09/technology/birds-arent-real-gen-z-misinformation.html<br> \n",
    "<a name=\"admonishnote\"></a>2.[^](#admonish): Also refs should be important to the background, not some randomly chosen vaguely related stuff. Include a web link if possible in refs as above.<br>\n",
    "<a name=\"sotanote\"></a>3.[^](#sota): Perhaps the current state of the art solution such as you see on [Papers with code](https://paperswithcode.com/sota). Or maybe not SOTA, but rather a standard textbook/Kaggle solution to this kind of problem\n"
   ]
  },
  {
   "cell_type": "code",
   "execution_count": null,
   "metadata": {},
   "outputs": [],
   "source": []
  }
 ],
 "metadata": {
  "kernelspec": {
   "display_name": "Python 3 (ipykernel)",
   "language": "python",
   "name": "python3"
  },
  "language_info": {
   "codemirror_mode": {
    "name": "ipython",
    "version": 3
   },
   "file_extension": ".py",
   "mimetype": "text/x-python",
   "name": "python",
   "nbconvert_exporter": "python",
   "pygments_lexer": "ipython3",
   "version": "3.11.4"
  }
 },
 "nbformat": 4,
 "nbformat_minor": 2
}
